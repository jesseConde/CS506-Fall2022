{
 "cells": [
  {
   "cell_type": "markdown",
   "metadata": {},
   "source": [
    "# Worksheet 20\n",
    "\n",
    "Name:  Daniel Scrivener\n",
    "UID: U38208685\n",
    "\n",
    "### Topics\n",
    "\n",
    "- Networks & Graphs\n",
    "\n",
    "## Networks & Graphs\n",
    "\n",
    "a) For each of the following, give an example of a question about a graph that is faster to answer when the graph is stored as:\n",
    "\n",
    "- an adjacency matrix\n",
    "- an adjacency list"
   ]
  },
  {
   "cell_type": "markdown",
   "metadata": {},
   "source": [
    "(Faster for adjacency matrix): Is there an edge between nodes i and j?\n",
    "\n",
    "(Faster for adjacency list): How many edges are in the graph?"
   ]
  },
  {
   "cell_type": "markdown",
   "metadata": {},
   "source": [
    "b) Load the following graph using the networkx library\n",
    "\n",
    "```\n",
    "A : {B, C}\n",
    "B : {A, D, E}\n",
    "C : {A, F}\n",
    "E : {B, G, H}\n",
    "```\n"
   ]
  },
  {
   "cell_type": "code",
   "execution_count": 5,
   "metadata": {},
   "outputs": [
    {
     "name": "stdout",
     "output_type": "stream",
     "text": [
      "['A', 'B', 'C', 'D', 'E', 'F', 'G', 'H']\n"
     ]
    }
   ],
   "source": [
    "import networkx as nx\n",
    "\n",
    "G = nx.Graph()\n",
    "G.add_nodes_from(['A', 'B', 'C', 'D', 'E', 'F', 'G', 'H'])\n",
    "G.add_edges_from([('A', 'B'), ('A', 'C'), ('B', 'D'), ('B', 'E'), ('C', 'F'), ('E', 'G'), ('E', 'H')])\n",
    "\n",
    "print(G.nodes())"
   ]
  },
  {
   "cell_type": "markdown",
   "metadata": {},
   "source": [
    "c) Print the following about the graph:\n",
    "\n",
    "- the diameter\n",
    "- the neighbors of node `A`\n",
    "- the density\n",
    "- degree centrality\n",
    "- closeness centrality\n",
    "- betweenness centrality"
   ]
  },
  {
   "cell_type": "code",
   "execution_count": 12,
   "metadata": {},
   "outputs": [
    {
     "name": "stdout",
     "output_type": "stream",
     "text": [
      "5\n",
      "['B', 'C']\n",
      "0.25\n",
      "Most important node under degree centrality is B (0.42857142857142855)\n",
      "Most important node under closeness centrality is B (0.5833333333333334)\n",
      "Most important node under betweenness centrality is B (0.7142857142857142)\n"
     ]
    }
   ],
   "source": [
    "import numpy as np\n",
    "\n",
    "print(nx.diameter(G))\n",
    "print(list(G.neighbors('A')))\n",
    "print(nx.density(G))\n",
    "deg = nx.degree_centrality(G)\n",
    "print('Most important node under degree centrality is', list(deg.keys())[np.argmax(list(deg.values()))], f'({list(deg.values())[np.argmax(list(deg.values()))]})')\n",
    "close = nx.closeness_centrality(G)\n",
    "print('Most important node under closeness centrality is', list(close.keys())[np.argmax(list(close.values()))], f'({list(close.values())[np.argmax(list(close.values()))]})')\n",
    "bet = nx.betweenness_centrality(G)\n",
    "print('Most important node under betweenness centrality is', list(bet.keys())[np.argmax(list(bet.values()))], f'({list(bet.values())[np.argmax(list(bet.values()))]})')"
   ]
  },
  {
   "cell_type": "markdown",
   "metadata": {},
   "source": [
    "d) What is the Kendall-Tau distance between the following rankings:\n",
    "\n",
    "\n",
    "|   | R_1 | R_2 |\n",
    "|---|-----|-----|\n",
    "| A | 1   |  5  |\n",
    "| B | 2   |  6  |\n",
    "| C | 3   |  7  |\n",
    "| D | 4   |  4  |\n",
    "| E | 5   |  1  |\n",
    "| F | 6   |  2  |\n",
    "| G | 7   |  3  |"
   ]
  },
  {
   "cell_type": "code",
   "execution_count": 16,
   "metadata": {},
   "outputs": [
    {
     "name": "stdout",
     "output_type": "stream",
     "text": [
      "Pairs [('B', 'A'), ('C', 'A'), ('C', 'B'), ('F', 'E'), ('G', 'E'), ('G', 'F')] agree, and\n",
      "pairs [('D', 'A'), ('D', 'B'), ('D', 'C'), ('E', 'A'), ('E', 'B'), ('E', 'C'), ('E', 'D'), ('F', 'A'), ('F', 'B'), ('F', 'C'), ('F', 'D'), ('G', 'A'), ('G', 'B'), ('G', 'C'), ('G', 'D')] disagree.\n",
      "The Kendall-Tau score is 15.\n"
     ]
    }
   ],
   "source": [
    "# adapted from my previous disagreement distance function\n",
    "def kt_dist(labels, w1, w2):\n",
    "    score = 0\n",
    "\n",
    "    assert(len(w1) ==len(w2))\n",
    "    disagree = []\n",
    "    agree = []\n",
    "    for i in range(len(w1)):\n",
    "        for j in range(i):\n",
    "            if (w1[i] > w1[j]) ^ (w2[i] > w2[j]):\n",
    "                # disagreement\n",
    "                disagree.append((labels[i], labels[j]))\n",
    "                score += 1\n",
    "            else:\n",
    "                agree.append((labels[i], labels[j]))\n",
    "\n",
    "    return score, agree, disagree\n",
    "\n",
    "labels = ['A','B','C','D','E','F','G']\n",
    "w1 = [1,2,3,4,5,6,7]\n",
    "w2 = [5,6,7,4,1,2,3]\n",
    "score, agree, disagree = kt_dist(labels, w1, w2)\n",
    "\n",
    "print(f'Pairs {agree} agree, and\\npairs {disagree} disagree.\\nThe Kendall-Tau score is {score}.')"
   ]
  }
 ],
 "metadata": {
  "kernelspec": {
   "display_name": "Python 3.9.13 ('base')",
   "language": "python",
   "name": "python3"
  },
  "language_info": {
   "codemirror_mode": {
    "name": "ipython",
    "version": 3
   },
   "file_extension": ".py",
   "mimetype": "text/x-python",
   "name": "python",
   "nbconvert_exporter": "python",
   "pygments_lexer": "ipython3",
   "version": "3.9.13"
  },
  "orig_nbformat": 4,
  "vscode": {
   "interpreter": {
    "hash": "0b6a8cfaa2c6a90fcfea6029b90fed80bbe2ca0c12d7685ed318e43d55be7bd6"
   }
  }
 },
 "nbformat": 4,
 "nbformat_minor": 2
}

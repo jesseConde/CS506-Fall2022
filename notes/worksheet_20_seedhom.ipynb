{
 "cells": [
  {
   "cell_type": "markdown",
   "metadata": {},
   "source": [
    "# Worksheet 20\n",
    "\n",
    "Name:  Amy Seedhom\n",
    "\n",
    "UID: U38474590\n",
    "\n",
    "### Topics\n",
    "\n",
    "- Networks & Graphs\n",
    "\n",
    "## Networks & Graphs\n",
    "\n",
    "a) For each of the following, give an example of a question about a graph that is faster to answer when the graph is stored as:\n",
    "\n",
    "- an adjacency matrix\n",
    "- an adjacency list"
   ]
  },
  {
   "cell_type": "markdown",
   "metadata": {},
   "source": [
    "Adjacency matrix:\n",
    "\n",
    "Is the graph directed or undirected? You can tell because an undirected graph will always have a symmetric matrix across the diagonal.\n",
    "\n",
    "Adjacency list:\n",
    "\n",
    "How many edges is a certain node connected to? You can tell because you simply count the number of elements in the array for the node in question.\n"
   ]
  },
  {
   "cell_type": "markdown",
   "metadata": {},
   "source": [
    "b) Load the following graph using the networkx library\n",
    "\n",
    "```\n",
    "A : {B, C}\n",
    "B : {A, D, E}\n",
    "C : {A, F}\n",
    "E : {B, G, H}\n",
    "```\n"
   ]
  },
  {
   "cell_type": "code",
   "execution_count": 25,
   "metadata": {},
   "outputs": [
    {
     "name": "stdout",
     "output_type": "stream",
     "text": [
      "['A', 'B', 'C', 'D', 'E', 'F', 'G', 'H']\n"
     ]
    }
   ],
   "source": [
    "import networkx as nx\n",
    "import matplotlib.pyplot as plt\n",
    "\n",
    "G = nx.Graph()\n",
    "G.add_node('A')\n",
    "G.add_nodes_from(['B', 'C'])\n",
    "G.add_nodes_from(['D', 'E', 'F', 'G', 'H'])\n",
    "G.add_edge('A', 'B')\n",
    "G.add_edges_from([('A', 'C'), ('D', 'B'), ('E', 'B'), ('A', 'C'), ('C', 'F'), ('E', 'G'), ('E', 'H')])\n",
    "\n",
    "print(G.nodes())"
   ]
  },
  {
   "cell_type": "code",
   "execution_count": 32,
   "metadata": {},
   "outputs": [
    {
     "data": {
      "image/png": "[encoded data removed]",
      "text/plain": [
       "<Figure size 640x480 with 1 Axes>"
      ]
     },
     "metadata": {},
     "output_type": "display_data"
    }
   ],
   "source": [
    "subax1 = plt.subplot(111)\n",
    "nx.draw(G, with_labels=True, font_weight='bold')\n",
    "plt.show()"
   ]
  },
  {
   "cell_type": "markdown",
   "metadata": {},
   "source": [
    "c) Print the following about the graph:\n",
    "\n",
    "- the diameter\n",
    "- the neighbors of node `A`\n",
    "- the density\n",
    "- degree centrality\n",
    "- closeness centrality\n",
    "- betweenness centrality"
   ]
  },
  {
   "cell_type": "code",
   "execution_count": 43,
   "metadata": {},
   "outputs": [
    {
     "name": "stdout",
     "output_type": "stream",
     "text": [
      "the diameter = 5\n",
      "the neighbors of node A = ['B', 'C']\n",
      "the density = 0.25\n",
      "degree centrality = {'A': 0.2857142857142857, 'B': 0.42857142857142855, 'C': 0.2857142857142857, 'D': 0.14285714285714285, 'E': 0.42857142857142855, 'F': 0.14285714285714285, 'G': 0.14285714285714285, 'H': 0.14285714285714285}\n",
      "closeness centrality = {'A': 0.5, 'B': 0.5833333333333334, 'C': 0.3888888888888889, 'D': 0.3888888888888889, 'E': 0.5, 'F': 0.2916666666666667, 'G': 0.35, 'H': 0.35}\n",
      "betweenness centrality = {'A': 0.47619047619047616, 'B': 0.7142857142857142, 'C': 0.2857142857142857, 'D': 0.0, 'E': 0.5238095238095237, 'F': 0.0, 'G': 0.0, 'H': 0.0}\n"
     ]
    }
   ],
   "source": [
    "print( \"the diameter =\", nx.diameter(G) )\n",
    "print( \"the neighbors of node A =\", list(G.neighbors('A')) )\n",
    "print( \"the density =\", nx.density(G) )\n",
    "print( \"degree centrality =\", nx.degree_centrality(G) )\n",
    "print( \"closeness centrality =\", nx.closeness_centrality(G) )\n",
    "print( \"betweenness centrality =\", nx.betweenness_centrality(G) )"
   ]
  },
  {
   "cell_type": "markdown",
   "metadata": {},
   "source": [
    "d) What is the Kendall-Tau distance between the following rankings:\n",
    "\n",
    "\n",
    "|   | R_1 | R_2 |\n",
    "|---|-----|-----|\n",
    "| A | 1   |  5  |\n",
    "| B | 2   |  6  |\n",
    "| C | 3   |  7  |\n",
    "| D | 4   |  4  |\n",
    "| E | 5   |  1  |\n",
    "| F | 6   |  2  |\n",
    "| G | 7   |  3  |"
   ]
  },
  {
   "cell_type": "markdown",
   "metadata": {},
   "source": [
    "Kendall-Tau distance = 15 / 21"
   ]
  },
  {
   "cell_type": "markdown",
   "metadata": {},
   "source": [
    "Pair | Agree\n",
    "---  |  ---\n",
    "AB   |  Yes\n",
    "AC   |  Yes\n",
    "AD   |   No\n",
    "AE   |   No\n",
    "AF   |   No\n",
    "AG   |   No\n",
    "BC   |  Yes\n",
    "BD   |   No\n",
    "BE   |   No\n",
    "BF   |   No\n",
    "BG   |   No\n",
    "CD   |   No\n",
    "CE   |   No\n",
    "CF   |   No\n",
    "CG   |   No\n",
    "DE   |   No\n",
    "DF   |   No\n",
    "DG   |   No\n",
    "EF   |  Yes\n",
    "EG   |  Yes\n",
    "FG   |  Yes"
   ]
  }
 ],
 "metadata": {
  "kernelspec": {
   "display_name": "Python 3.8.9 64-bit",
   "language": "python",
   "name": "python3"
  },
  "language_info": {
   "codemirror_mode": {
    "name": "ipython",
    "version": 3
   },
   "file_extension": ".py",
   "mimetype": "text/x-python",
   "name": "python",
   "nbconvert_exporter": "python",
   "pygments_lexer": "ipython3",
   "version": "3.8.9"
  },
  "orig_nbformat": 4,
  "vscode": {
   "interpreter": {
    "hash": "31f2aee4e71d21fbe5cf8b01ff0e069b9275f58929596ceb00d14d90e3e16cd6"
   }
  }
 },
 "nbformat": 4,
 "nbformat_minor": 2
}

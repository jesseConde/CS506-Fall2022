{
 "cells": [
  {
   "cell_type": "markdown",
   "metadata": {},
   "source": [
    "# Worksheet 07\n",
    "\n",
    "Name:  Tian Tan\n",
    "UID: U68023245\n",
    "\n",
    "### Topics\n",
    "\n",
    "- Soft Clustering\n",
    "- Clustering Aggregation\n",
    "\n",
    "### Probability Review\n",
    "\n",
    "Read through [the following](https://medium.com/@gallettilance/overview-of-probability-3272b72c82c8)\n",
    "\n",
    "### Soft Clustering\n",
    "\n",
    "We generate 10 data points that come from a normal distribution with mean 5 and variance 1."
   ]
  },
  {
   "cell_type": "code",
   "execution_count": 2,
   "metadata": {},
   "outputs": [],
   "source": [
    "import random\n",
    "import numpy as np\n",
    "from sklearn.cluster import KMeans"
   ]
  },
  {
   "cell_type": "code",
   "execution_count": 24,
   "metadata": {},
   "outputs": [
    {
     "name": "stdout",
     "output_type": "stream",
     "text": [
      "[5.00454091033587, 5.127170528762501, 6.083750614945755, 2.6909115900721305, 4.9597176401197975, 4.027602374601293, 3.6781615047787914, 5.125851153489565, 4.973032005880094, 4.182078692808478]\n"
     ]
    }
   ],
   "source": [
    "\n",
    "mean = 5\n",
    "stdev = 1\n",
    "\n",
    "c1 = np.random.normal(mean, stdev, 10).tolist()\n",
    "print(c1)"
   ]
  },
  {
   "cell_type": "markdown",
   "metadata": {},
   "source": [
    "a) Generate 10 more data points, this time coming from a normal distribution with mean 8 and variance 1."
   ]
  },
  {
   "cell_type": "code",
   "execution_count": 25,
   "metadata": {},
   "outputs": [
    {
     "name": "stdout",
     "output_type": "stream",
     "text": [
      "[6.168324468415767, 9.531698441762249, 9.258256418787441, 5.699593008130197, 8.552171606471628, 8.298650346970508, 8.179978891949647, 8.985073398638365, 8.491047233537694, 7.823228229914113]\n"
     ]
    }
   ],
   "source": [
    "c2 = np.random.normal(8, 1, 10).tolist()\n",
    "print(c2)"
   ]
  },
  {
   "cell_type": "markdown",
   "metadata": {},
   "source": [
    "b) Flip a fair coin 10 times. If the coin lands on H, then pick the last data point of `c1` and remove it from `c1`, if T then pick the last data point from `c2` and remove it from `c2`. Add these 10 points to a list called `data`."
   ]
  },
  {
   "cell_type": "code",
   "execution_count": 26,
   "metadata": {},
   "outputs": [
    {
     "name": "stdout",
     "output_type": "stream",
     "text": [
      "[7.823228229914113, 8.491047233537694, 4.182078692808478, 4.973032005880094, 5.125851153489565, 8.985073398638365, 8.179978891949647, 3.6781615047787914, 8.298650346970508, 4.027602374601293]\n"
     ]
    }
   ],
   "source": [
    "data = []\n",
    "for i in range(10):\n",
    "    # flip coin\n",
    "    coin_output = random.choice([0, 1])\n",
    "    if coin_output == 0:\n",
    "        p1 = c1.pop()\n",
    "        data.append(p1)\n",
    "    else:\n",
    "        p2 = c2.pop()\n",
    "        data.append(p2)\n",
    "print(data)"
   ]
  },
  {
   "cell_type": "markdown",
   "metadata": {},
   "source": [
    "c) This `data` is a Gaussian Mixture Distribution with 2 mixture components. Over the next few questions we will walk through the GMM algorithm to see if we can uncover the parameters we used to generate this data. First, please list all these parameters of the GMM that created `data` and the values we know they have."
   ]
  },
  {
   "cell_type": "markdown",
   "metadata": {},
   "source": [
    "\n",
    "P(c1) = 1/2 = P(c2)\n",
    "\n",
    "mu_1 = 5, mu_2 = 8 \n",
    "\n",
    "var_1 = var_2 = 1"
   ]
  },
  {
   "cell_type": "markdown",
   "metadata": {},
   "source": [
    "d) Let's assume there are two mixture components (note: we could plot the data and make the observation that there are two clusters). The EM algorithm asks us to start with a random `mean_j`, `variance_j`, `P(C_j)` for each component j. One method we could use to find sensible values for these is to apply K means with k=2 here.\n",
    "\n",
    "1. the centroids would be the estimates of the `mean_j`\n",
    "2. the intra-cluster variance could be the estimate of `variance_j`\n",
    "3. the proportion of points in each cluster could be the estimate of `P(C_j)`\n",
    "\n",
    "Go through this process and list the parameter estimates it gives. Are they close or far from the true values?"
   ]
  },
  {
   "cell_type": "code",
   "execution_count": 27,
   "metadata": {},
   "outputs": [
    {
     "name": "stdout",
     "output_type": "stream",
     "text": [
      "[4.182078692808478, 4.973032005880094, 5.125851153489565, 3.6781615047787914, 4.027602374601293]\n",
      "[7.823228229914113, 8.491047233537694, 8.985073398638365, 8.179978891949647, 8.298650346970508]\n",
      "P(C_1) = 0.5,  P(C_2) = 0.5\n",
      "mean_1 = 4.397345146311644,  mean_2 = 8.355595620202063\n",
      "var_1 = 0.3124821672516878,  var_2 = 0.14641769014556585\n"
     ]
    },
    {
     "name": "stderr",
     "output_type": "stream",
     "text": [
      "c:\\Users\\tt2ma\\.conda\\envs\\CS506HMK1\\lib\\site-packages\\sklearn\\cluster\\_kmeans.py:1334: UserWarning: KMeans is known to have a memory leak on Windows with MKL, when there are less chunks than available threads. You can avoid it by setting the environment variable OMP_NUM_THREADS=1.\n",
      "  warnings.warn(\n"
     ]
    }
   ],
   "source": [
    "kmeans = KMeans(2, init='k-means++').fit(X=np.array(data).reshape(-1, 1))\n",
    "\n",
    "c1 = [x[0] for x in filter(lambda x: x[1] == 0, zip(data, kmeans.labels_))]\n",
    "print(c1)\n",
    "c2 = [x[0] for x in filter(lambda x: x[1] == 1, zip(data, kmeans.labels_))]\n",
    "print(c2)\n",
    "\n",
    "prob_c = [ len(c1) / (len(c1) + len(c2)) , len(c2)/ (len(c1) + len(c2)) ]\n",
    "mean = [ sum(c1)/len(c1) , sum(c2)/len(c2)]\n",
    "var = [ sum(map(lambda x : (x - mean[0])**2, c1)) / len(c1) , sum(map(lambda x : (x - mean[1])**2, c2)) / len(c2) ]\n",
    "\n",
    "print(\"P(C_1) = \" + str(prob_c[0]) + \",  P(C_2) = \" + str(prob_c[1]))\n",
    "print(\"mean_1 = \" + str(mean[0]) + \",  mean_2 = \" + str(mean[1]))\n",
    "print(\"var_1 = \" + str(var[0]) + \",  var_2 = \" + str(var[1]))"
   ]
  },
  {
   "cell_type": "markdown",
   "metadata": {},
   "source": [
    "P(C_1) and P(C_2) are both 0.5. This makes sense. They are close to the true values."
   ]
  },
  {
   "cell_type": "markdown",
   "metadata": {},
   "source": [
    "e) For each data point, compute `P(C_j | X_i)`. Comment on which cluster you think each point belongs to based on the estimated probabilities. How does that compare to the truth?"
   ]
  },
  {
   "cell_type": "code",
   "execution_count": 28,
   "metadata": {},
   "outputs": [
    {
     "name": "stdout",
     "output_type": "stream",
     "text": [
      "7.823228229914113\n",
      "Probability of coming from C_1 = 2.7604393948224823e-24\n",
      "Probability of coming from C_2 = 1.0\n",
      "\n",
      "8.491047233537694\n",
      "Probability of coming from C_1 = 3.87782100985865e-38\n",
      "Probability of coming from C_2 = 1.0\n",
      "\n",
      "4.182078692808478\n",
      "Probability of coming from C_1 = 1.0\n",
      "Probability of coming from C_2 = 1.0060835409802024e-176\n",
      "\n",
      "4.973032005880094\n",
      "Probability of coming from C_1 = 1.0\n",
      "Probability of coming from C_2 = 1.4884201217847957e-115\n",
      "\n",
      "5.125851153489565\n",
      "Probability of coming from C_1 = 1.0\n",
      "Probability of coming from C_2 = 7.098891489074061e-105\n",
      "\n",
      "8.985073398638365\n",
      "Probability of coming from C_1 = 7.560701658553004e-44\n",
      "Probability of coming from C_2 = 1.0\n",
      "\n",
      "8.179978891949647\n",
      "Probability of coming from C_1 = 1.45789921625505e-32\n",
      "Probability of coming from C_2 = 1.0\n",
      "\n",
      "3.6781615047787914\n",
      "Probability of coming from C_1 = 1.0\n",
      "Probability of coming from C_2 = 7.463102852656092e-221\n",
      "\n",
      "8.298650346970508\n",
      "Probability of coming from C_1 = 7.183575316917331e-35\n",
      "Probability of coming from C_2 = 1.0\n",
      "\n",
      "4.027602374601293\n",
      "Probability of coming from C_1 = 1.0\n",
      "Probability of coming from C_2 = 7.968008961046267e-190\n",
      "\n"
     ]
    }
   ],
   "source": [
    "from scipy.stats import norm\n",
    "\n",
    "prob_c0_x = [] # P(C_0 | X_i)\n",
    "prob_c1_x = [] # P(C_1 | X_i)\n",
    "prob_x = [] # P(X_i)\n",
    "\n",
    "k = 2\n",
    "\n",
    "for p in data:\n",
    "    #print(\"point = \", p)\n",
    "    pdf_i = [] # two values (two cluasters)\n",
    "\n",
    "    for j in range(k):\n",
    "        # P(X_i | C_j)\n",
    "        pdf_i.append(norm.pdf(p, mean[j], var[j]))\n",
    "        # print(\"probability of observing that point if it came from cluster \" + str(j) + \" = \", pdf_i[j])\n",
    "        # P(C_j) already computed\n",
    "        prob_c[j] \n",
    "\n",
    "    # P(X_i) = P(C_0)P(X_i | C_0) + P(C_1)P(X_i | C_1)\n",
    "    prob_x = prob_c[0] * pdf_i[0] + prob_c[1] * pdf_i[1]\n",
    "\n",
    "    # P(C_j | X_i) = P(X_i | C_j)P(C_j) / P(X_i)\n",
    "    prob_c0_x.append( pdf_i[0] * prob_c[0] / prob_x )\n",
    "    prob_c1_x.append( pdf_i[1] * prob_c[1] / prob_x )\n",
    "\n",
    "probs = zip(data, prob_c0_x, prob_c1_x)\n",
    "for p in probs:\n",
    "    print(p[0]) # data\n",
    "    print(\"Probability of coming from C_1 = \" + str(p[1])) # prob_c0_x\n",
    "    print(\"Probability of coming from C_2 = \" + str(p[2])) # prob_c1_x\n",
    "    print()\n"
   ]
  },
  {
   "cell_type": "markdown",
   "metadata": {},
   "source": [
    "Based on estimated probabilities, \n",
    "\n",
    "C1: [4.182078692808478, 4.973032005880094, 5.125851153489565, 3.6781615047787914, 4.027602374601293]\n",
    "\n",
    "C2: [7.823228229914113, 8.491047233537694, 8.985073398638365, 8.179978891949647, 8.298650346970508]\n",
    "\n",
    "\n",
    "Compared with the true value, the estimated clusters are very close to the true clusters and they are actually the same.\n"
   ]
  },
  {
   "cell_type": "markdown",
   "metadata": {},
   "source": [
    "f) Having computed `P(C_j | X_i)`, update the estimates of `mean_j`, `var_j`, and `P(C_j)`. How different are these values from the original ones you got from K means? briefly comment."
   ]
  },
  {
   "cell_type": "code",
   "execution_count": 33,
   "metadata": {},
   "outputs": [
    {
     "name": "stdout",
     "output_type": "stream",
     "text": [
      "P(C_1) = 0.5,  P(C_2) = 0.5\n",
      "mean_1 = 4.397345146311644,  mean_2 = 8.355595620202063\n",
      "var_1 = 0.3124821672516878,  var_2 = 0.14641769014556585\n"
     ]
    }
   ],
   "source": [
    "prob_c = [sum(prob_c0_x)/ len(prob_c0_x), sum(prob_c1_x)/ len(prob_c1_x) ]\n",
    "mean = [sum([x[0] * x[1] for x in zip(prob_c0_x, data)]) / sum(prob_c0_x), sum([x[0] * x[1] for x in zip(prob_c1_x, data)]) / sum(prob_c1_x) ]\n",
    "var = [sum(map(lambda x : x[0]* (x[1] - mean[0])**2, zip(prob_c0_x, data))) / sum(prob_c0_x), sum(map(lambda x : x[0]*(x[1] - mean[1])**2, zip(prob_c1_x, data))) / sum(prob_c1_x)]\n",
    "\n",
    "print(\"P(C_1) = \" + str(prob_c[0]) + \",  P(C_2) = \" + str(prob_c[1]))\n",
    "print(\"mean_1 = \" + str(mean[0]) + \",  mean_2 = \" + str(mean[1]))\n",
    "print(\"var_1 = \" + str(var[0]) + \",  var_2 = \" + str(var[1]))"
   ]
  },
  {
   "cell_type": "markdown",
   "metadata": {},
   "source": [
    "Following are the true values:\n",
    "\n",
    "P(C_1) = 0.5,  P(C_2) = 0.5\n",
    "\n",
    "mean_1 = 4.397345146311644,  mean_2 = 8.355595620202063\n",
    "\n",
    "var_1 = 0.3124821672516878,  var_2 = 0.14641769014556585\n",
    "\n",
    "In my case, these estimated values are same with the original ones got from K means. Generally, I think they should be quite similar."
   ]
  },
  {
   "cell_type": "markdown",
   "metadata": {},
   "source": [
    "g) Update `P(C_j | X_i)`. Comment on any differences or lack thereof you observe."
   ]
  },
  {
   "cell_type": "code",
   "execution_count": 37,
   "metadata": {},
   "outputs": [
    {
     "name": "stdout",
     "output_type": "stream",
     "text": [
      "P(C_1) = 0.5,  P(C_2) = 0.5\n",
      "mean_1 = 4.397345146311644,  mean_2 = 8.355595620202063\n",
      "var_1 = 0.3124821672516878,  var_2 = 0.14641769014556585\n"
     ]
    }
   ],
   "source": [
    "# Using above estimated values (mean...) to update P(C_j, X_i)\n",
    "\n",
    "prob_c = [sum(prob_c0_x)/ len(prob_c0_x), sum(prob_c1_x)/ len(prob_c1_x) ]\n",
    "mean = [sum([x[0] * x[1] for x in zip(prob_c0_x, data)]) / sum(prob_c0_x), sum([x[0] * x[1] for x in zip(prob_c1_x, data)]) / sum(prob_c1_x) ]\n",
    "var = [sum(map(lambda x : x[0]* (x[1] - mean[0])**2, zip(prob_c0_x, data))) / sum(prob_c0_x), sum(map(lambda x : x[0]*(x[1] - mean[1])**2, zip(prob_c1_x, data))) / sum(prob_c1_x)]\n",
    "# print(mean, var, prob_c)\n",
    "\n",
    "# refreash parameters\n",
    "prob_c0_x = [] # P(C_0 | X_i)\n",
    "prob_c1_x = [] # P(C_1 | X_i)\n",
    "prob_x = [] # P(X_i)\n",
    "\n",
    "k = 2\n",
    "\n",
    "for p in data:\n",
    "    pdf_i = [] # two values (two cluasters)\n",
    "\n",
    "    for j in range(k):\n",
    "        # P(X_i | C_j)\n",
    "        pdf_i.append(norm.pdf(p, mean[j], var[j]))\n",
    "        prob_c[j] \n",
    "\n",
    "    # P(X_i) = P(C_0)P(X_i | C_0) + P(C_1)P(X_i | C_1)\n",
    "    prob_x = prob_c[0] * pdf_i[0] + prob_c[1] * pdf_i[1]\n",
    "\n",
    "    # P(C_j | X_i) = P(X_i | C_j)P(C_j) / P(X_i)\n",
    "    prob_c0_x.append( pdf_i[0] * prob_c[0] / prob_x )\n",
    "    prob_c1_x.append( pdf_i[1] * prob_c[1] / prob_x )\n",
    "\n",
    "probs = zip(data, prob_c0_x, prob_c1_x)\n",
    "# for p in probs:\n",
    "#     print(p[0]) # data\n",
    "#     print(\"Probability of coming from C_1 = \" + str(p[1])) # prob_c0_x\n",
    "#     print(\"Probability of coming from C_2 = \" + str(p[2])) # prob_c1_x\n",
    "#     print()\n",
    "\n",
    "# display the new parameters after update P(C_j, X_i)\n",
    "prob_c = [sum(prob_c0_x)/ len(prob_c0_x), sum(prob_c1_x)/ len(prob_c1_x) ]\n",
    "mean = [sum([x[0] * x[1] for x in zip(prob_c0_x, data)]) / sum(prob_c0_x), sum([x[0] * x[1] for x in zip(prob_c1_x, data)]) / sum(prob_c1_x) ]\n",
    "var = [sum(map(lambda x : x[0]* (x[1] - mean[0])**2, zip(prob_c0_x, data))) / sum(prob_c0_x), sum(map(lambda x : x[0]*(x[1] - mean[1])**2, zip(prob_c1_x, data))) / sum(prob_c1_x)]\n",
    "\n",
    "print(\"P(C_1) = \" + str(prob_c[0]) + \",  P(C_2) = \" + str(prob_c[1]))\n",
    "print(\"mean_1 = \" + str(mean[0]) + \",  mean_2 = \" + str(mean[1]))\n",
    "print(\"var_1 = \" + str(var[0]) + \",  var_2 = \" + str(var[1]))"
   ]
  },
  {
   "cell_type": "markdown",
   "metadata": {},
   "source": [
    "In my case, there is no difference between these two iterations. The reason is that at the first iteration, it has converged and the best result is obtained. However, in my other test cases, by updating P(C_j, X_i), the estimated values can be brought closer to the true values. And it will eventually converge."
   ]
  },
  {
   "cell_type": "markdown",
   "metadata": {},
   "source": [
    "h) Use `P(C_j | X_i)` to create a hard assignment - label each point as belonging to a specific cluster (0 or 1)"
   ]
  },
  {
   "cell_type": "code",
   "execution_count": 49,
   "metadata": {},
   "outputs": [
    {
     "name": "stdout",
     "output_type": "stream",
     "text": [
      "point: 7.823228229914113 belongs to cluster: 1\n",
      "point: 8.491047233537694 belongs to cluster: 1\n",
      "point: 4.182078692808478 belongs to cluster: 0\n",
      "point: 4.973032005880094 belongs to cluster: 0\n",
      "point: 5.125851153489565 belongs to cluster: 0\n",
      "point: 8.985073398638365 belongs to cluster: 1\n",
      "point: 8.179978891949647 belongs to cluster: 1\n",
      "point: 3.6781615047787914 belongs to cluster: 0\n",
      "point: 8.298650346970508 belongs to cluster: 1\n",
      "point: 4.027602374601293 belongs to cluster: 0\n"
     ]
    }
   ],
   "source": [
    "\n",
    "# hard assignment either 0 or 1\n",
    "\n",
    "# print(data)\n",
    "label = {}\n",
    "\n",
    "probs = zip(data, prob_c0_x, prob_c1_x)\n",
    "for p in probs:\n",
    "    # p[0]: data; p[1]: prob_c0_x; p[2]: prob_c1_x\n",
    "    # if prob_c0_x > prob_c1_x -> cluster 0\n",
    "    if p[1] > p[2]:\n",
    "        label[p[0]] = 0\n",
    "    else:\n",
    "        label[p[0]] = 1\n",
    "    print(\"point: \" + str(p[0]) + \" belongs to cluster: \" + str(label[p[0]]))\n",
    "# print(label)\n",
    "\n"
   ]
  },
  {
   "cell_type": "markdown",
   "metadata": {},
   "source": [
    "### Clustering Aggregation\n",
    "\n",
    "| Point | C | P |\n",
    "|-------|---|---|\n",
    "| A     | 0 | a |\n",
    "| B     | 0 | b |\n",
    "| C     | 2 | b |\n",
    "| D     | 1 | c |\n",
    "| E     | 1 | d |\n",
    "\n",
    "a) Fill in the following table where for each pair of points determine whether C and P agree or disagree on how to cluster that pair."
   ]
  },
  {
   "cell_type": "markdown",
   "metadata": {},
   "source": [
    "| Pair | Disagreement |\n",
    "|------|--------------|\n",
    "| A  B |      disagree       |\n",
    "| A  C |      agree       |\n",
    "| A  D |      agree       |\n",
    "| A  E |      agree       |\n",
    "| B  C |      disagree       |\n",
    "| B  D |      agree       |\n",
    "| B  E |      agree       |\n",
    "| C  D |      agree       |\n",
    "| C  E |      agree       |\n",
    "| D  E |      disagree       |\n"
   ]
  },
  {
   "cell_type": "markdown",
   "metadata": {},
   "source": [
    "As datasets become very large, this process can become computationally challenging.\n",
    "\n",
    "b) Given N points, what is the formula for the number of unique pairs of points one can create?"
   ]
  },
  {
   "cell_type": "markdown",
   "metadata": {},
   "source": [
    "It is C(N,2) = N! / (2!*(N-2)!). It means N choose 2, that is, N points can have this number of unique pairs."
   ]
  },
  {
   "cell_type": "markdown",
   "metadata": {},
   "source": [
    "Assume that clustering C clusters all points in the same cluster and clustering P clusters points as such:\n",
    "\n",
    "| Point | P |\n",
    "|-------|---|\n",
    "| A     | 0 |\n",
    "| B     | 0 |\n",
    "| C     | 0 |\n",
    "| D     | 1 |\n",
    "| E     | 1 |\n",
    "| F     | 2 |\n",
    "| G     | 2 |\n",
    "| H     | 2 |\n",
    "| I     | 2 |\n",
    "\n",
    "c) What is the maximum number of disagreements there could be for a dataset of this size? (use the formula from b)?"
   ]
  },
  {
   "cell_type": "markdown",
   "metadata": {},
   "source": [
    "Since there are 9 points. C(9, 2) = 36. Thus the maximum number of disagreements is 36."
   ]
  },
  {
   "cell_type": "markdown",
   "metadata": {},
   "source": [
    "d) If we look at cluster 0. There are (3 x 2) / 2 = 3 pairs that agree with C (since all points in C are in the same cluster). For each cluster, determine how many agreements there are. How many total agreements are there? How many disagreements does that mean there are between C and P?"
   ]
  },
  {
   "cell_type": "markdown",
   "metadata": {},
   "source": [
    "cluster 0: 3 agreements.\n",
    "\n",
    "cluster 1：1 agreements.\n",
    "\n",
    "cluster 2: 6 agreements.\n",
    "\n",
    "6+1+3=10， there are 10 agreements in total.\n",
    "\n",
    "36-10 = 26. Thus, there are 26 disagreements between C and P."
   ]
  },
  {
   "cell_type": "markdown",
   "metadata": {},
   "source": [
    "e) Assuming that filtering the dataset by cluster number is a computationally easy operation, describe an algorithm inspired by the above process that can efficiently compute disagreement distances on large datasets."
   ]
  },
  {
   "cell_type": "markdown",
   "metadata": {},
   "source": [
    "Given a N points dataset, as we known, the maximum number of disagreements is C(N, 2).\n",
    "\n",
    "Since filering the dataset by cluster number is a easy operation, then we can easily split our data into several clusters. Then we can compute the number of agreements of each cluster, it should be easy.\n",
    "\n",
    "Finally, we can just use the the maximum number of disagreements minus the sum of the number of agreements of each cluster to get the disagreements distance on this datasets.\n",
    "\n",
    "That is,\n",
    "\n",
    "disagreements distance = C(N,2) - sum(ni)\n",
    "\n",
    "ni represents the agreements number of each cluster."
   ]
  }
 ],
 "metadata": {
  "kernelspec": {
   "display_name": "Python 3.9.13 ('CS506HMK1')",
   "language": "python",
   "name": "python3"
  },
  "language_info": {
   "codemirror_mode": {
    "name": "ipython",
    "version": 3
   },
   "file_extension": ".py",
   "mimetype": "text/x-python",
   "name": "python",
   "nbconvert_exporter": "python",
   "pygments_lexer": "ipython3",
   "version": "3.9.13"
  },
  "orig_nbformat": 4,
  "vscode": {
   "interpreter": {
    "hash": "17071f33b5e32d0e891e6f8e57b35561e5efce5ec6fb7850ac2a68bf8dba42ef"
   }
  }
 },
 "nbformat": 4,
 "nbformat_minor": 2
}
